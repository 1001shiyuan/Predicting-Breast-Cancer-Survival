{
 "cells": [
  {
   "cell_type": "markdown",
   "metadata": {},
   "source": [
    "Date: Nov 20, 2024\n",
    "\n",
    "# EE5573 Project\n",
    "\n",
    "*This project aims to explore and build a binary classifier, and filter out the top-10 important influential factors in life-expectancy of patients with breast cancer. Our model includes Random Forest, Gradient Boosted Trees, Logistic Regression and Support Vector Machine.*"
   ]
  },
  {
   "cell_type": "markdown",
   "metadata": {},
   "source": [
    "## Part 1: Data Processing\n",
    "\n",
    "*In this part, we will*\n",
    "* read out the dataset, \n",
    "* handle missing data, \n",
    "* standardize the dataset,\n",
    "* split the dataset into training and test set,\n",
    "* determine the number of pricipal components by PCA,\n",
    "* perform PCA on the training and test set, and\n",
    "* determine top-10 important features."
   ]
  },
  {
   "cell_type": "markdown",
   "metadata": {},
   "source": [
    "### Part 1.1 - Raw Data\n",
    "\n",
    "In this version, we remove the sparse columns with more than 95% of 0s or 1s after one-hot encoding. The number of features is reduced to about 570 from 8500."
   ]
  },
  {
   "cell_type": "code",
   "execution_count": 1,
   "metadata": {},
   "outputs": [
    {
     "name": "stdout",
     "output_type": "stream",
     "text": [
      "# of features:  574\n"
     ]
    }
   ],
   "source": [
    "#########################################################################\n",
    "# Scaler: Standard scaler\n",
    "# Features: drop off all >95% 0s and 1s\n",
    "# Scale all Numerical Columns and one-hot encoding\n",
    "# Fine tunning is performed on RF.\n",
    "#########################################################################\n",
    "\n",
    "import pandas as pd\n",
    "from sklearn.impute import KNNImputer\n",
    "import numpy as np\n",
    "from sklearn.model_selection import train_test_split\n",
    "#from sklearn.preprocessing import MinMaxScaler\n",
    "from sklearn.preprocessing import StandardScaler\n",
    "\n",
    "# Load data\n",
    "data = pd.read_csv('METABRIC_RNA_Mutation.csv', low_memory=False)\n",
    "\n",
    "# Drop unwanted columns\n",
    "columns_to_drop = ['patient_id', 'overall_survival', 'death_from_cancer']\n",
    "data.drop(columns=columns_to_drop, inplace=True)\n",
    "\n",
    "# KNN imputation for numeric columns\n",
    "cols_with_missing = data.columns[data.isnull().any()].tolist()\n",
    "numeric_columns = [col for col in cols_with_missing if data[col].dtype == 'float64']\n",
    "imputer = KNNImputer(n_neighbors=5)\n",
    "data[numeric_columns] = imputer.fit_transform(data[numeric_columns])\n",
    "\n",
    "# One-hot encoding for categorical columns\n",
    "categorical_columns = data.select_dtypes(include=['object']).columns.tolist()\n",
    "data = pd.get_dummies(data, columns=categorical_columns, prefix=categorical_columns, \n",
    "                      dummy_na=False, dtype=int)\n",
    "\n",
    "# Remove redundant columns (categorical columns with >95% 0s or >95% 1s)\n",
    "redundant_columns = [\n",
    "    col for col in data.columns \n",
    "    if data[col].nunique() == 2 and (data[col].value_counts(normalize=True).iloc[0] > 0.95)\n",
    "]\n",
    "data.drop(columns=redundant_columns, inplace=True)\n",
    "\n",
    "# Generate the 'survival' column based on 'overall_survival_month'\n",
    "# Y=-1 stands for less than 10 yrs, Y=1 stands for at least 10 yrs\n",
    "data = data.copy()\n",
    "months = [\n",
    "    (data['overall_survival_months'] < 120),\n",
    "    (data['overall_survival_months'] >= 120)\n",
    "]\n",
    "years = [-1, 1]  \n",
    "data['survival'] = np.select(months, years, default=np.nan).astype(int) \n",
    "data.drop(columns=['overall_survival_months'], inplace=True)\n",
    "\n",
    "# Split into input training and test set with a ratio of 0.2\n",
    "X = data.drop(columns=['survival'])\n",
    "Y = data['survival']\n",
    "X_train, X_test, Y_train, Y_test = train_test_split(X, Y, test_size=0.2, random_state=42)\n",
    "\n",
    "# Scale the numeric columns in training and test datasets respectively.\n",
    "# Scaling is not necessary for all tree-based algorithms.  \n",
    "binary_columns = [col for col in X_train.columns if set(X_train[col].unique()) <= {0, 1}]\n",
    "columns_to_scale = [col for col in data.columns if col not in binary_columns and col != 'survival']\n",
    "\n",
    "# Initiate a substance to scale all features into N(0,1)\n",
    "scaler=StandardScaler()\n",
    "\n",
    "# Hard copy dataset\n",
    "X_train_scaled = X_train.copy()\n",
    "X_test_scaled = X_test.copy()\n",
    "X_train_scaled = scaler.fit_transform(X_train)\n",
    "X_test_scaled = scaler.transform(X_test)\n",
    "\n",
    "# Print out the number of features after preprocessing\n",
    "print(\"# of features: \", X_train.shape[1])\n",
    "\n",
    "# Define feature names in order.\n",
    "feature_names = X.columns\n",
    "\n",
    "# Write datasets into files for checking\n",
    "np.savetxt(\"X_train_scaled.csv\", X_train_scaled, delimiter=\",\")\n",
    "np.savetxt(\"X_test_scaled.csv\", X_test_scaled, delimiter=\",\")\n",
    "np.savetxt(\"Y_train.csv\", Y_train, delimiter=\",\")\n",
    "np.savetxt(\"Y_test.csv\", Y_test, delimiter=\",\")"
   ]
  },
  {
   "cell_type": "markdown",
   "metadata": {},
   "source": [
    "### Part 1.2 Self-defined Functions\n",
    "*Put all self-defined fuctions in this section.*"
   ]
  },
  {
   "cell_type": "code",
   "execution_count": 2,
   "metadata": {},
   "outputs": [],
   "source": [
    "def printTop10Features(feature_names, feature_importance):\n",
    "    ##############################################################################\n",
    "    # Call this function to return the name of features with descending importance\n",
    "    # Feature_names: we have defined them in Part 1.1\n",
    "    # Feature_importance: a vector in length of feature_names\n",
    "    # This function has no return.\n",
    "    ##############################################################################\n",
    "    feature_importance_df = pd.DataFrame({\n",
    "        'Feature': feature_names,\n",
    "        'Importance': feature_importance\n",
    "    })\n",
    "    feature_importance_df.sort_values(by='Importance', ascending=False, inplace=True)\n",
    "    print(\"\\nTop 10 important features:\")\n",
    "    print(feature_importance_df.head(10))\n",
    "    "
   ]
  },
  {
   "cell_type": "markdown",
   "metadata": {},
   "source": [
    "### Part 1.3 PCA"
   ]
  },
  {
   "cell_type": "code",
   "execution_count": 3,
   "metadata": {},
   "outputs": [
    {
     "name": "stdout",
     "output_type": "stream",
     "text": [
      "Retain # of Principal Components =  351\n",
      "Shape of training set after PCA:  (1523, 351)\n",
      "Shape of test set after PCA:  (381, 351)\n",
      "\n",
      "Top 10 important features:\n",
      "                                Feature  Importance\n",
      "291                               gata3    0.121431\n",
      "517                  er_status_Positive    0.106684\n",
      "516                  er_status_Negative    0.106684\n",
      "153                               chek1    0.104775\n",
      "290                                cbfb    0.104041\n",
      "255                                rheb    0.101682\n",
      "313                                mapt    0.101662\n",
      "81                                 dtx3    0.101168\n",
      "445                                  ar    0.100415\n",
      "514  er_status_measured_by_ihc_Negative    0.098399\n"
     ]
    },
    {
     "data": {
      "image/png": "[encoded data removed]",
      "text/plain": [
       "<Figure size 864x360 with 1 Axes>"
      ]
     },
     "metadata": {
      "needs_background": "light"
     },
     "output_type": "display_data"
    }
   ],
   "source": [
    "# Import PCA model\n",
    "from sklearn.decomposition import PCA\n",
    "import matplotlib.pyplot as plt\n",
    "\n",
    "# Fit PCA to data\n",
    "pca = PCA()\n",
    "pca.fit(X_train_scaled)\n",
    "evr = pca.explained_variance_ratio_\n",
    " \n",
    "# Visualize the variance explained by each principal components\n",
    "# Generate a plot\n",
    "#   X-axis for 'number of principal components', y-axis for \"Cumulative explained variance\".\n",
    "#   This plot shows how many principal components should be adopted to satisfactorily represent\n",
    "#   the original raw data. Set the threshold to 0.8 or 0.95 (by experiment, 0.8 is more \n",
    "#   preferrable). We can then determine the reduced dimensionality (around 1000 or 1500).\n",
    "plt.figure(figsize=(12, 5))\n",
    "plt.plot(range(0, len(evr)), evr.cumsum(), marker=\"o\", linestyle=\"--\")\n",
    "plt.grid(True)\n",
    "plt.xlabel(\"Number of components\")\n",
    "plt.ylabel(\"Cumulative explained variance\")\n",
    "plt.savefig('fig_1.png', dpi=300)\n",
    "\n",
    "# Cumulative explained variance ratio\n",
    "cumulative_variance_ratio = np.cumsum(pca.explained_variance_ratio_)\n",
    "\n",
    "# Find the number of components to retain\n",
    "num_components = np.argmax(cumulative_variance_ratio >= 0.95) + 1\n",
    "print(\"Retain # of Principal Components = \",num_components)\n",
    "\n",
    "# Transform both train and test dataset into lower dimentionality\n",
    "clf = PCA(n_components = num_components) \n",
    "clf.fit(X_train_scaled)\n",
    "X_train_r = clf.transform(X_train_scaled)\n",
    "X_test_r = clf.transform(X_test_scaled)\n",
    "print(\"Shape of training set after PCA: \", X_train_r.shape)\n",
    "print(\"Shape of test set after PCA: \", X_test_r.shape)\n",
    "\n",
    "# Analyze the composition of pricipal components \n",
    "# to determine the top-10 features in the original dataset\n",
    "\n",
    "# Get the loadings\n",
    "loadings = pca.components_\n",
    "coefficients = np.abs(loadings)\n",
    "feature_importance = coefficients[0,:]\n",
    "\n",
    "# Print out a list of top-10 important features\n",
    "printTop10Features(feature_names, feature_importance)\n"
   ]
  },
  {
   "cell_type": "markdown",
   "metadata": {},
   "source": [
    "##### Part 2: Models\n",
    "\n",
    "*In this part, we will try 4 models with datasets.*\n",
    "* Part 2.1 Random Forest.\n",
    "* Part 2.2 Gradient Boosted Trees.\n",
    "* Part 2.3 Logistic Regreesion with L1 Regularization.\n",
    "* Part 2.4 Support Vector Machine with L1 Regularization.\n",
    "\n",
    "*By far, we have 3 forms of training and test sets. In summary,*\n",
    "* Each training set has 1523 samples (as rows), and test set has 381 samples,\n",
    "* X_train, X_test : \n",
    "             raw (neither scaling nor dimension reduction), 574 features (as columns),\n",
    "* X_train_scaled, X_test_scaled: \n",
    "             scaled (with scaling but without dimension reduction), 574 features,\n",
    "* X_train_r, X_test_r :\n",
    "             reduced by PCA (with both scaling and dimension reduction), 266 features only."
   ]
  },
  {
   "cell_type": "markdown",
   "metadata": {},
   "source": [
    "### Part 2.1 Random Forest (RF)"
   ]
  },
  {
   "cell_type": "code",
   "execution_count": 24,
   "metadata": {},
   "outputs": [
    {
     "name": "stdout",
     "output_type": "stream",
     "text": [
      "Training accuracy: 0.8818\n",
      "Testing  accuracy: 0.6220\n",
      "\n",
      "Top 10 important features:\n",
      "                           Feature  Importance\n",
      "7      nottingham_prognostic_index    0.023802\n",
      "5    lymph_nodes_examined_positive    0.022216\n",
      "0                 age_at_diagnosis    0.018968\n",
      "131                          aurka    0.015346\n",
      "9                       tumor_size    0.015208\n",
      "2                           cohort    0.009813\n",
      "10                     tumor_stage    0.008655\n",
      "64                          stat5b    0.007707\n",
      "160                         diras3    0.007637\n",
      "349                          dnah2    0.007161\n"
     ]
    }
   ],
   "source": [
    "# Generate 3 containers to store the results for our models.\n",
    "model_name = []\n",
    "acc_train = []\n",
    "acc_test = []\n",
    "\n",
    "# Import random forest model\n",
    "from sklearn.ensemble import RandomForestClassifier\n",
    "\n",
    "# Experiment 2.1.1\n",
    "# Feed with raw data (X_train and X_test)\n",
    "clf = RandomForestClassifier(n_estimators=100, max_depth=5, min_samples_split=2, \n",
    "                       min_samples_leaf=1, max_features='sqrt', random_state=42).fit(X_train, Y_train)\n",
    "\n",
    "# Evaluate model\n",
    "model_name.append('RF')\n",
    "acc_train.append(clf.score(X_train, Y_train))\n",
    "acc_test.append(clf.score(X_test, Y_test))\n",
    "\n",
    "# Print out the accuracy for training and test sets\n",
    "print(\"Training accuracy: {:.4f}\".format(acc_train[-1]))\n",
    "print(\"Testing  accuracy: {:.4f}\".format(acc_test[-1]))\n",
    "\n",
    "# Feature importance\n",
    "feature_importance = clf.feature_importances_\n",
    "\n",
    "# Print out a list of top-10 important features\n",
    "printTop10Features(feature_names, feature_importance)"
   ]
  },
  {
   "cell_type": "code",
   "execution_count": 26,
   "metadata": {},
   "outputs": [
    {
     "name": "stdout",
     "output_type": "stream",
     "text": [
      "Best Parameters:\n",
      " {'max_depth': 10, 'min_samples_leaf': 4, 'min_samples_split': 10, 'n_estimators': 200}\n",
      "Training accuracy: 0.8818\n",
      "Testing  accuracy: 0.6220\n",
      "\n",
      "Top 10 important features:\n",
      "                           Feature  Importance\n",
      "7      nottingham_prognostic_index    0.014487\n",
      "0                 age_at_diagnosis    0.012266\n",
      "5    lymph_nodes_examined_positive    0.011423\n",
      "9                       tumor_size    0.006477\n",
      "64                          stat5b    0.006346\n",
      "131                          aurka    0.005563\n",
      "2                           cohort    0.005460\n",
      "349                          dnah2    0.005363\n",
      "10                     tumor_stage    0.005146\n",
      "299                          runx1    0.004692\n"
     ]
    }
   ],
   "source": [
    "###########################################################################\n",
    "# Grid Search for RF:\n",
    "#    Adjust the hyperparmeters. Always set random_state=42.\n",
    "# Our Goals:\n",
    "#     - higher testing accuracy\n",
    "#     - smaller gap between training and testing accuracy\n",
    "#     - more top-10 features found in {0,2,5,7,9}\n",
    "###########################################################################\n",
    "\n",
    "\n",
    "from sklearn.model_selection import GridSearchCV\n",
    "\n",
    "rf = RandomForestClassifier(max_features='sqrt', random_state=42)\n",
    "\n",
    "# Define the hyperparameter grid\n",
    "param_grid = {\n",
    "    'n_estimators': [50, 100, 200],\n",
    "    'max_depth': [None, 5, 10],\n",
    "    'min_samples_split': [2, 5, 10],\n",
    "    'min_samples_leaf': [1, 2, 4]\n",
    "}\n",
    "\n",
    "# Perform grid search with cross-validation\n",
    "grid_search = GridSearchCV(rf, param_grid, cv=5)\n",
    "grid_search.fit(X_train, Y_train)\n",
    "\n",
    "\n",
    "# Best hyperparameters and model\n",
    "print('Best Parameters:\\n', grid_search.best_params_) \n",
    "clf = grid_search.best_estimator_  # best model\n",
    "\n",
    "# Print out the accuracy for training and test sets\n",
    "print(\"Training accuracy: {:.4f}\".format(acc_train[-1]))\n",
    "print(\"Testing  accuracy: {:.4f}\".format(acc_test[-1]))\n",
    "\n",
    "# Feature importance\n",
    "feature_importance = clf.feature_importances_\n",
    "\n",
    "# Print out a list of top-10 important features\n",
    "printTop10Features(feature_names, feature_importance)"
   ]
  },
  {
   "cell_type": "code",
   "execution_count": 5,
   "metadata": {},
   "outputs": [
    {
     "name": "stdout",
     "output_type": "stream",
     "text": [
      "Training accuracy: 0.8976\n",
      "Testing  accuracy: 0.5958\n"
     ]
    }
   ],
   "source": [
    "# Experiment 2.1.2\n",
    "# Feed with feature-reduced data (X_train_r and X_test_r)\n",
    "clf = RandomForestClassifier(n_estimators=100, max_depth=4, min_samples_split=2, \n",
    "                       min_samples_leaf=1, max_features='sqrt', random_state=42).fit(X_train_r, Y_train)\n",
    "\n",
    "# Evaluate model\n",
    "model_name.append('RF')\n",
    "acc_train.append(clf.score(X_train_r, Y_train))\n",
    "acc_test.append(clf.score(X_test_r, Y_test))\n",
    "\n",
    "# Print out the accuracy for training and test sets\n",
    "print(\"Training accuracy: {:.4f}\".format(acc_train[-1]))\n",
    "print(\"Testing  accuracy: {:.4f}\".format(acc_test[-1]))\n"
   ]
  },
  {
   "cell_type": "markdown",
   "metadata": {},
   "source": [
    "### Part 2.2 Gradient Boosted Trees (GBT)"
   ]
  },
  {
   "cell_type": "code",
   "execution_count": 6,
   "metadata": {},
   "outputs": [
    {
     "name": "stdout",
     "output_type": "stream",
     "text": [
      "Training accuracy: 0.7196\n",
      "Testing  accuracy: 0.6063\n",
      "\n",
      "Top 10 important features:\n",
      "                           Feature  Importance\n",
      "7      nottingham_prognostic_index    0.174718\n",
      "0                 age_at_diagnosis    0.153824\n",
      "2                           cohort    0.102761\n",
      "5    lymph_nodes_examined_positive    0.097151\n",
      "131                          aurka    0.071722\n",
      "349                          dnah2    0.044351\n",
      "64                          stat5b    0.029583\n",
      "276                          tgfb2    0.017126\n",
      "106                          psen1    0.015647\n",
      "454                        cyp21a2    0.015285\n"
     ]
    }
   ],
   "source": [
    "# Import selected model\n",
    "from sklearn.ensemble import GradientBoostingClassifier\n",
    "\n",
    "# Experiment 2.2.1\n",
    "# Feed with raw data (X_train and X_test)\n",
    "clf = GradientBoostingClassifier(\n",
    "    n_estimators=100, learning_rate=0.01, random_state=42\n",
    "    ).fit(X_train, Y_train)\n",
    "\n",
    "# Evaluate model\n",
    "model_name.append('GBT')\n",
    "acc_train.append(clf.score(X_train, Y_train))\n",
    "acc_test.append(clf.score(X_test, Y_test))\n",
    "\n",
    "# Print out the accuracy for training and test sets\n",
    "print(\"Training accuracy: {:.4f}\".format(acc_train[-1]))\n",
    "print(\"Testing  accuracy: {:.4f}\".format(acc_test[-1]))\n",
    "\n",
    "# Feature importance\n",
    "feature_importance = clf.feature_importances_\n",
    "\n",
    "# Print out a list of top-10 important features\n",
    "printTop10Features(feature_names, feature_importance)"
   ]
  },
  {
   "cell_type": "code",
   "execution_count": 7,
   "metadata": {},
   "outputs": [
    {
     "name": "stdout",
     "output_type": "stream",
     "text": [
      "Training accuracy: 0.7505\n",
      "Testing  accuracy: 0.5906\n"
     ]
    }
   ],
   "source": [
    "# Experiment 2.2.2\n",
    "# Feed with feature-reduced data (X_train_r and X_test_r)\n",
    "clf = GradientBoostingClassifier(\n",
    "    n_estimators=100, learning_rate=0.01, random_state=42\n",
    "    ).fit(X_train_r, Y_train)\n",
    "\n",
    "# Evaluate model\n",
    "model_name.append('GBT')\n",
    "acc_train.append(clf.score(X_train_r, Y_train))\n",
    "acc_test.append(clf.score(X_test_r, Y_test))\n",
    "\n",
    "# Print out the accuracy for training and test sets\n",
    "print(\"Training accuracy: {:.4f}\".format(acc_train[-1]))\n",
    "print(\"Testing  accuracy: {:.4f}\".format(acc_test[-1]))\n"
   ]
  },
  {
   "cell_type": "markdown",
   "metadata": {},
   "source": [
    "### Part 2.3 Logistic Regression (LR)"
   ]
  },
  {
   "cell_type": "code",
   "execution_count": 8,
   "metadata": {},
   "outputs": [
    {
     "name": "stdout",
     "output_type": "stream",
     "text": [
      "Training accuracy: 0.7768\n",
      "Testing  accuracy: 0.6430\n",
      "\n",
      "Top 10 important features:\n",
      "                           Feature  Importance\n",
      "0                 age_at_diagnosis    0.437897\n",
      "5    lymph_nodes_examined_positive    0.352527\n",
      "26                            pms2    0.283335\n",
      "389                           nras    0.174198\n",
      "349                          dnah2    0.163974\n",
      "43                           ccnd2    0.147768\n",
      "210                          mapk7    0.144232\n",
      "31                             rb1    0.141463\n",
      "64                          stat5b    0.137726\n",
      "462                       hsd17b11    0.135437\n"
     ]
    }
   ],
   "source": [
    "# Import LR model\n",
    "from sklearn.linear_model import LogisticRegression\n",
    "\n",
    "# Experiment 2.3.1\n",
    "# Feed with scaled data (X_train_scaled and X_test_scaled)\n",
    "clf = LogisticRegression(\n",
    "    C=0.1, penalty=\"l1\", tol=1e-4, max_iter=2000, solver=\"saga\"\n",
    "    ).fit(X_train_scaled, Y_train)\n",
    "\n",
    "# Evaluate model\n",
    "model_name.append('LR')\n",
    "acc_train.append(clf.score(X_train_scaled, Y_train))\n",
    "acc_test.append(clf.score(X_test_scaled, Y_test))\n",
    "\n",
    "# Print out the accuracy for training and test sets\n",
    "print(\"Training accuracy: {:.4f}\".format(acc_train[-1]))\n",
    "print(\"Testing  accuracy: {:.4f}\".format(acc_test[-1]))\n",
    "\n",
    "# Feature importance\n",
    "feature_importance = np.abs(clf.coef_).reshape(-1,)\n",
    "\n",
    "# Print out a list of top-10 important features\n",
    "printTop10Features(feature_names, feature_importance)"
   ]
  },
  {
   "cell_type": "code",
   "execution_count": 9,
   "metadata": {},
   "outputs": [
    {
     "name": "stdout",
     "output_type": "stream",
     "text": [
      "Training accuracy: 0.6612\n",
      "Testing  accuracy: 0.6273\n"
     ]
    }
   ],
   "source": [
    "# Experiment 2.3.2\n",
    "# Feed with feature-reduced data (X_train_r and X_test_r)\n",
    "clf = LogisticRegression(\n",
    "    C=0.025, penalty=\"l1\", tol=1e-4, max_iter=2000, solver=\"saga\"\n",
    "    ).fit(X_train_r, Y_train)\n",
    "\n",
    "# Evaluate model\n",
    "model_name.append('LR')\n",
    "acc_train.append(clf.score(X_train_r, Y_train))\n",
    "acc_test.append(clf.score(X_test_r, Y_test))\n",
    "\n",
    "# Print out the accuracy for training and test sets\n",
    "print(\"Training accuracy: {:.4f}\".format(acc_train[-1]))\n",
    "print(\"Testing  accuracy: {:.4f}\".format(acc_test[-1]))\n"
   ]
  },
  {
   "cell_type": "markdown",
   "metadata": {},
   "source": [
    "### Part 2.4 Support Vector Machine (SVM)"
   ]
  },
  {
   "cell_type": "code",
   "execution_count": 10,
   "metadata": {},
   "outputs": [
    {
     "name": "stdout",
     "output_type": "stream",
     "text": [
      "Training accuracy: 0.7682\n",
      "Testing  accuracy: 0.6404\n",
      "\n",
      "Top 10 important features:\n",
      "                           Feature  Importance\n",
      "0                 age_at_diagnosis    0.183367\n",
      "5    lymph_nodes_examined_positive    0.127042\n",
      "26                            pms2    0.115648\n",
      "389                           nras    0.073617\n",
      "349                          dnah2    0.067434\n",
      "43                           ccnd2    0.060861\n",
      "210                          mapk7    0.059240\n",
      "64                          stat5b    0.059010\n",
      "31                             rb1    0.057590\n",
      "462                       hsd17b11    0.056089\n"
     ]
    }
   ],
   "source": [
    "# Import SVM model\n",
    "from sklearn.svm import LinearSVC\n",
    "from sklearn.feature_selection import SelectFromModel\n",
    "\n",
    "# Experiment 2.4.1\n",
    "# Feed with scaled data (X_train_scaled and X_test_scaled)\n",
    "clf = LinearSVC(\n",
    "    C=0.025, penalty=\"l1\", tol=1e-5, max_iter=2000, dual=False, random_state=42\n",
    "    ).fit(X_train_scaled, Y_train)\n",
    "\n",
    "# Evaluate model\n",
    "model_name.append('SVM')\n",
    "acc_train.append(clf.score(X_train_scaled, Y_train))\n",
    "acc_test.append(clf.score(X_test_scaled, Y_test))\n",
    "\n",
    "# Print out the accuracy for training and test sets\n",
    "print(\"Training accuracy: {:.4f}\".format(acc_train[-1]))\n",
    "print(\"Testing  accuracy: {:.4f}\".format(acc_test[-1]))\n",
    "\n",
    "# Feature importance\n",
    "feature_importance = np.abs(clf.coef_).reshape(-1,)\n",
    "\n",
    "# Print out a list of top-10 important features\n",
    "printTop10Features(feature_names, feature_importance)"
   ]
  },
  {
   "cell_type": "code",
   "execution_count": 11,
   "metadata": {},
   "outputs": [
    {
     "name": "stdout",
     "output_type": "stream",
     "text": [
      "Training accuracy: 0.6888\n",
      "Testing  accuracy: 0.6247\n"
     ]
    }
   ],
   "source": [
    "# Experiment 2.4.2\n",
    "# Feed with feature-reduced data (X_train_r and X_test_r)\n",
    "clf = LinearSVC(\n",
    "    C=0.01, penalty=\"l1\", tol=1e-4, max_iter=2000, dual=False, random_state=42\n",
    "    ).fit(X_train_r, Y_train)\n",
    "\n",
    "# Evaluate model\n",
    "model_name.append('SVM')\n",
    "acc_train.append(clf.score(X_train_r, Y_train))\n",
    "acc_test.append(clf.score(X_test_r, Y_test))\n",
    "\n",
    "# Print out the accuracy for training and test sets\n",
    "print(\"Training accuracy: {:.4f}\".format(acc_train[-1]))\n",
    "print(\"Testing  accuracy: {:.4f}\".format(acc_test[-1]))\n"
   ]
  },
  {
   "cell_type": "markdown",
   "metadata": {},
   "source": [
    "## Part 3: Discussions\n",
    "\n",
    "*In this part, we will compare and discuss the differeces between outputs from the raw and feature-reduced data of the 4 models in terms of*\n",
    "* Part 3.1 Accuracy\n",
    "* Part 3.2 Top-10 selected fetures"
   ]
  },
  {
   "cell_type": "markdown",
   "metadata": {},
   "source": [
    "### Part 3.1 Model Accuracy"
   ]
  },
  {
   "cell_type": "code",
   "execution_count": 12,
   "metadata": {},
   "outputs": [
    {
     "data": {
      "image/png": "[encoded data removed]",
      "text/plain": [
       "<Figure size 864x360 with 1 Axes>"
      ]
     },
     "metadata": {
      "needs_background": "light"
     },
     "output_type": "display_data"
    }
   ],
   "source": [
    "# Plot 4 curves \n",
    "#   Color in red for raw data, blue for feature-reduced data.\n",
    "#   Solid line for training accuracy, dash line for test accuracy.\n",
    "#   X-axis for name of the 4 models, y-axis for model accuracy.\n",
    "\n",
    "\n",
    "# Model names and their corresponding training accuracies\n",
    "models = model_name[::2]\n",
    "acc_train_1 = acc_train[::2]\n",
    "acc_test_1 = acc_test[::2]\n",
    "acc_train_2 = acc_train[1::2]\n",
    "acc_test_2 = acc_test[1::2]\n",
    "\n",
    "# Create a line plot\n",
    "plt.figure(figsize=(12, 5))\n",
    "plt.plot(models, acc_train_1, marker='o', color='red', linestyle='--', label='Traing w All Features')\n",
    "plt.plot(models, acc_test_1, marker='*', color='red', linestyle='-', label='Test w All Features')\n",
    "plt.plot(models, acc_train_2, marker='o', color='blue', linestyle='--', label='Traing w Less Features')\n",
    "plt.plot(models, acc_test_2, marker='*', color='blue', linestyle='-', label='Test w Less Features')\n",
    "\n",
    "# Customize the plot\n",
    "plt.xlabel('Model')\n",
    "plt.ylabel('Accuracy')\n",
    "plt.title('Model Performance Comparison')\n",
    "plt.grid(True)\n",
    "plt.legend()\n",
    "\n",
    "# Show the plot\n",
    "plt.show()\n"
   ]
  },
  {
   "cell_type": "code",
   "execution_count": 14,
   "metadata": {},
   "outputs": [
    {
     "name": "stdout",
     "output_type": "stream",
     "text": [
      "['RF', 'RF', 'GBT', 'GBT', 'LR', 'LR', 'SVM', 'SVM'] [0.881812212738017, 0.8975705843729481, 0.7196323046618516, 0.7504924491135916, 0.7767564018384767, 0.6611950098489823, 0.768220617202889, 0.6887721602101117] [0.6220472440944882, 0.5958005249343832, 0.6062992125984252, 0.5905511811023622, 0.6430446194225722, 0.6272965879265092, 0.6404199475065617, 0.6246719160104987]\n"
     ]
    }
   ],
   "source": [
    "print(model_name,acc_train,acc_test)"
   ]
  }
 ],
 "metadata": {
  "kernelspec": {
   "display_name": "Python 3 (ipykernel)",
   "language": "python",
   "name": "python3"
  },
  "language_info": {
   "codemirror_mode": {
    "name": "ipython",
    "version": 3
   },
   "file_extension": ".py",
   "mimetype": "text/x-python",
   "name": "python",
   "nbconvert_exporter": "python",
   "pygments_lexer": "ipython3",
   "version": "3.11.7"
  }
 },
 "nbformat": 4,
 "nbformat_minor": 4
}
